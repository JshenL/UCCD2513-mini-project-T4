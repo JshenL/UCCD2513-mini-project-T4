{
 "cells": [
  {
   "cell_type": "markdown",
   "id": "2fe36eac",
   "metadata": {},
   "source": [
    "## Exercise week8\n"
   ]
  },
  {
   "cell_type": "code",
   "execution_count": 1,
   "id": "d65a61be",
   "metadata": {},
   "outputs": [],
   "source": [
    "import cv2 as cv\n",
    "import numpy as np\n",
    "import matplotlib.pyplot as plt"
   ]
  },
  {
   "cell_type": "markdown",
   "id": "dd66a519",
   "metadata": {},
   "source": [
    "1. Experiment with different edge detectors: Sobel, Laplacian, Prewitt, Scharr derivatives and Canny operators (all with aperture size of 3) on image named 'pineapple.jfif'. Comment on the results."
   ]
  },
  {
   "cell_type": "code",
   "execution_count": 5,
   "id": "11983daf",
   "metadata": {},
   "outputs": [],
   "source": [
    "img = cv.imread(\"images/pineapple.jfif\")\n",
    "grayimg = cv.cvtColor(img,cv.COLOR_BGR2GRAY)"
   ]
  },
  {
   "cell_type": "code",
   "execution_count": null,
   "id": "f59dee1f",
   "metadata": {},
   "outputs": [],
   "source": []
  },
  {
   "cell_type": "markdown",
   "id": "35e4daf4",
   "metadata": {},
   "source": [
    "2. Write a program to identify the white object (probably laptop) present in the image 'electronic.jfif'. Draw bounding boxes on the objects."
   ]
  },
  {
   "cell_type": "code",
   "execution_count": 2,
   "id": "f87f94c3",
   "metadata": {},
   "outputs": [],
   "source": [
    "# read\n",
    "image = cv.imread(\"images/electronic.jfif\")\n",
    "\n",
    "# convert the image to HSV color space\n",
    "hsv = cv.cvtColor(image, cv.COLOR_BGR2HSV)\n",
    "\n",
    "# define the range of colors that represent the laptop\n",
    "lower_laptop_color = np.array([0, 0, 180])\n",
    "upper_laptop_color = np.array([180, 50, 255])  # Adjusted saturation value\n",
    "\n",
    "# create a binary mask using inRange for the laptop color\n",
    "laptop_mask = cv.inRange(hsv, lower_laptop_color, upper_laptop_color)\n",
    "\n",
    "# find contours\n",
    "contours, _ = cv.findContours(laptop_mask, cv.RETR_EXTERNAL, cv.CHAIN_APPROX_SIMPLE)\n",
    "\n",
    "# draw bounding boxes\n",
    "for contour in contours:\n",
    "    if cv.contourArea(contour) > 10000:  # Adjust this to get the laptop only\n",
    "        x, y, w, h = cv.boundingRect(contour)\n",
    "        cv.rectangle(image, (x, y), (x + w, y + h), (0, 255, 0), 2)\n",
    "\n",
    "        \n",
    "# display iamge\n",
    "cv.imshow(\"laptop\", image)\n",
    "cv.waitKey(0)\n",
    "cv.destroyAllWindows()"
   ]
  },
  {
   "cell_type": "code",
   "execution_count": null,
   "id": "f1bf7419",
   "metadata": {},
   "outputs": [],
   "source": []
  },
  {
   "cell_type": "markdown",
   "id": "fa5b9883",
   "metadata": {},
   "source": [
    "3.solate the clock with the aid of edge detection and contours' properties. The example result should be as follows: segmented_clock"
   ]
  },
  {
   "cell_type": "code",
   "execution_count": 3,
   "id": "6422403b",
   "metadata": {},
   "outputs": [],
   "source": [
    "# read image\n",
    "image_clock = cv.imread(\"images/clock.jpg\")\n",
    "\n",
    "# convert into grayscale\n",
    "image_clock_gray = cv.cvtColor(image_clock, cv.COLOR_BGR2GRAY)\n",
    "\n",
    "# apply Canny edge detection\n",
    "edges_clock = cv.Canny(image_clock_gray, 50, 150)\n",
    "\n",
    "# find contours\n",
    "contours, _ = cv.findContours(edges_clock, cv.RETR_TREE, cv.CHAIN_APPROX_SIMPLE)\n",
    "\n",
    "# sort the detected contours by area in descending order\n",
    "sorted_contours = sorted(contours, key=cv.contourArea, reverse=True)[:5]\n",
    "\n",
    "# Initialize a variable for the clock screen contour\n",
    "clock_screen_contour = None\n",
    "\n",
    "# Iterate through the sorted contours and find the clock screen contour\n",
    "for contour in sorted_contours:\n",
    "    perimeter = cv.arcLength(contour, True)\n",
    "    approx = cv.approxPolyDP(contour, 0.1 * perimeter, True)\n",
    "    \n",
    "    if len(approx) == 4:\n",
    "        clock_screen_contour = contour\n",
    "        break\n",
    "\n",
    "# Draw the clock screen contour on a copy of the original image\n",
    "img_with_contours = image_clock.copy()\n",
    "cv.drawContours(img_with_contours, [clock_screen_contour], -1, (0, 255, 0), 2)\n",
    "\n",
    "# Display the image with the clock screen contour\n",
    "cv.imshow(\"Clock Contours\", img_with_contours)\n",
    "cv.waitKey(0)\n",
    "cv.destroyAllWindows()"
   ]
  },
  {
   "cell_type": "code",
   "execution_count": null,
   "id": "fdb17f03",
   "metadata": {},
   "outputs": [],
   "source": []
  },
  {
   "cell_type": "code",
   "execution_count": null,
   "id": "0e83efb7",
   "metadata": {},
   "outputs": [],
   "source": []
  }
 ],
 "metadata": {
  "kernelspec": {
   "display_name": "Python 3 (ipykernel)",
   "language": "python",
   "name": "python3"
  },
  "language_info": {
   "codemirror_mode": {
    "name": "ipython",
    "version": 3
   },
   "file_extension": ".py",
   "mimetype": "text/x-python",
   "name": "python",
   "nbconvert_exporter": "python",
   "pygments_lexer": "ipython3",
   "version": "3.11.4"
  }
 },
 "nbformat": 4,
 "nbformat_minor": 5
}
